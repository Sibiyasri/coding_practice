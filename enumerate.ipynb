{
 "cells": [
  {
   "cell_type": "code",
   "execution_count": 1,
   "id": "576e053c-1c43-42f7-9d28-4f73e25e4d9e",
   "metadata": {},
   "outputs": [
    {
     "name": "stdout",
     "output_type": "stream",
     "text": [
      "idx:0, item:appa\n",
      "idx:1, item:amma\n",
      "idx:2, item:sister\n",
      "idx:3, item:brother\n"
     ]
    }
   ],
   "source": [
    "my_home=['appa','amma','sister','brother']             # using enumerate to identify the index value\n",
    "for idx,item in enumerate(my_home):\n",
    "    print(f'idx:{idx}, item:{item}')"
   ]
  },
  {
   "cell_type": "code",
   "execution_count": 2,
   "id": "e072f1ca-7806-42ec-8d4b-1d94e3ceaa0a",
   "metadata": {},
   "outputs": [
    {
     "name": "stdout",
     "output_type": "stream",
     "text": [
      "idx:0,sweets:laddu\n",
      "idx:1,sweets:jilabee\n",
      "idx:2,sweets:palkova\n"
     ]
    }
   ],
   "source": [
    "my_list=['laddu','jilabee','palkova']\n",
    "for idx, sweets in enumerate(my_list):\n",
    "    print(f'idx:{idx},sweets:{sweets}')"
   ]
  },
  {
   "cell_type": "code",
   "execution_count": 5,
   "id": "eb704050-19d8-4765-9d53-d3a378a76148",
   "metadata": {},
   "outputs": [
    {
     "name": "stdout",
     "output_type": "stream",
     "text": [
      "idx:1,sweets:laddu\n",
      "idx:2,sweets:jilabee\n",
      "idx:3,sweets:palkova\n"
     ]
    }
   ],
   "source": [
    "for idx,sweets in enumerate(my_list, start=1):         # starting from a different index\n",
    "    print(f'idx:{idx},sweets:{sweets}')"
   ]
  },
  {
   "cell_type": "code",
   "execution_count": 8,
   "id": "6f7526cc-b517-4d1f-976b-71d9b277acea",
   "metadata": {},
   "outputs": [
    {
     "name": "stdout",
     "output_type": "stream",
     "text": [
      "0 a 5\n",
      "1 b 10\n",
      "2 c 15\n",
      "3 d 20\n"
     ]
    }
   ],
   "source": [
    "my_dict={'a':5,'b':10,'c':15,'d':20}                   # enumerate using dictionary keys and values\n",
    "for idx, (key,value) in enumerate(my_dict.items()):\n",
    "    print(idx,key,value)"
   ]
  },
  {
   "cell_type": "code",
   "execution_count": 17,
   "id": "fa8e7742-9664-4452-9c53-80750f2a8165",
   "metadata": {},
   "outputs": [
    {
     "name": "stdout",
     "output_type": "stream",
     "text": [
      "0 a\n",
      "1 b\n",
      "2 c\n",
      "3 d\n"
     ]
    }
   ],
   "source": [
    "for idx,key in enumerate(my_dict.keys()):                     # using dict enumerate just keys\n",
    "    print(idx,key)"
   ]
  },
  {
   "cell_type": "code",
   "execution_count": 15,
   "id": "d3a4d3ab-a695-404d-a693-c4aa078e1d2e",
   "metadata": {},
   "outputs": [
    {
     "name": "stdout",
     "output_type": "stream",
     "text": [
      "0 5\n",
      "1 10\n",
      "2 15\n",
      "3 20\n"
     ]
    }
   ],
   "source": [
    "for idx,value in enumerate(my_dict.values()):                # using dict enumerate values only\n",
    "    print(idx,value)"
   ]
  },
  {
   "cell_type": "code",
   "execution_count": 1,
   "id": "e565c294-1009-47c2-b6d1-4efe61d999f9",
   "metadata": {},
   "outputs": [
    {
     "name": "stdout",
     "output_type": "stream",
     "text": [
      "idx:0,stud1-> name:sri, age:22\n",
      "idx:1,stud2-> name:sibi, age:20\n",
      "idx:2,stud3-> name:lavan, age:14\n"
     ]
    }
   ],
   "source": [
    "students={'stud1':{'name':'sri','age':22},                   # dictionary of dict using enumerate \n",
    "          'stud2':{'name':'sibi','age':20},\n",
    "          'stud3':{'name':'lavan','age':14}}\n",
    "for idx,(stud_id,stud_detail) in enumerate(students.items()):\n",
    "    print(f'idx:{idx},{stud_id}-> name:{stud_detail['name']}, age:{stud_detail['age']}');"
   ]
  },
  {
   "cell_type": "code",
   "execution_count": 10,
   "id": "8350ec95-c190-453e-8945-9f489ded334e",
   "metadata": {},
   "outputs": [
    {
     "name": "stdout",
     "output_type": "stream",
     "text": [
      "0, stud1, age is:22\n",
      "1, stud2, age is:20\n"
     ]
    }
   ],
   "source": [
    "students={'stud1':{'name':'sri','age':22},                   # enumerate using if condition\n",
    "          'stud2':{'name':'sibi','age':20},\n",
    "          'stud3':{'name':'lavan','age':14}}\n",
    "for idx,(stud_id,details) in enumerate(students.items()):\n",
    "    if details['age']>=20:\n",
    "        print(f'{idx}, {stud_id}, age is:{details['age']}')"
   ]
  },
  {
   "cell_type": "code",
   "execution_count": 12,
   "id": "59de706e-2b8e-48ab-82e9-0464bde4ca64",
   "metadata": {},
   "outputs": [
    {
     "name": "stdout",
     "output_type": "stream",
     "text": [
      "[(0, 'apple'), (1, 'bannana'), (2, 'cherry')]\n"
     ]
    }
   ],
   "source": [
    "fruits=['apple','bannana','cherry']                         # enumerate using without for loop using list\n",
    "result=list(enumerate(fruits))\n",
    "print(result)"
   ]
  },
  {
   "cell_type": "code",
   "execution_count": 15,
   "id": "e853f3d7-7c10-490d-85e4-2eb69503bb24",
   "metadata": {},
   "outputs": [
    {
     "name": "stdout",
     "output_type": "stream",
     "text": [
      "{0: 'apple', 1: 'bannana', 2: 'cherry'}\n"
     ]
    }
   ],
   "source": [
    "fruits=['apple','bannana','cherry']                         # enumerate uing without for loop using dictionary\n",
    "result=dict(enumerate(fruits))\n",
    "print(result)"
   ]
  },
  {
   "cell_type": "code",
   "execution_count": null,
   "id": "10d81d99-c412-4ff9-bea7-038c3cdc40ef",
   "metadata": {},
   "outputs": [],
   "source": []
  },
  {
   "cell_type": "code",
   "execution_count": null,
   "id": "6b2fbef1-06b0-454d-84be-2700c0f665e1",
   "metadata": {},
   "outputs": [],
   "source": []
  }
 ],
 "metadata": {
  "kernelspec": {
   "display_name": "Python 3 (ipykernel)",
   "language": "python",
   "name": "python3"
  },
  "language_info": {
   "codemirror_mode": {
    "name": "ipython",
    "version": 3
   },
   "file_extension": ".py",
   "mimetype": "text/x-python",
   "name": "python",
   "nbconvert_exporter": "python",
   "pygments_lexer": "ipython3",
   "version": "3.13.3"
  }
 },
 "nbformat": 4,
 "nbformat_minor": 5
}
