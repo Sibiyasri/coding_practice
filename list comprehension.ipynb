{
 "cells": [
  {
   "cell_type": "code",
   "execution_count": 2,
   "id": "d0c48b62-764b-4144-bbb6-cf81a2026483",
   "metadata": {},
   "outputs": [
    {
     "name": "stdout",
     "output_type": "stream",
     "text": [
      "[0, 1, 2, 3, 4, 5, 6, 7, 8, 9]\n"
     ]
    }
   ],
   "source": [
    "list_1=[x for x in range(10)]                            # # uing list comprehension this will using without using a for loop\n",
    "print(list_1)"
   ]
  },
  {
   "cell_type": "code",
   "execution_count": 3,
   "id": "ff1aca0a-0913-4428-96b3-c4548b14cccb",
   "metadata": {},
   "outputs": [
    {
     "name": "stdout",
     "output_type": "stream",
     "text": [
      "[0, 2, 4, 6, 8]\n"
     ]
    }
   ],
   "source": [
    "list_2=[y for y in range(10) if y%2==0]                     # using list comprehension using if condition\n",
    "print(list_2)"
   ]
  },
  {
   "cell_type": "code",
   "execution_count": 4,
   "id": "dc68b9c3-203e-415e-a945-37620887f5cb",
   "metadata": {},
   "outputs": [
    {
     "name": "stdout",
     "output_type": "stream",
     "text": [
      "[1]\n"
     ]
    }
   ],
   "source": [
    "vegs=['tomato','chilli','onion']                  # using list comprehension with enumerate and if condition\n",
    "chilli_idx=[i for i, veg in enumerate(vegs) if veg=='chilli']\n",
    "print(chilli_idx)"
   ]
  },
  {
   "cell_type": "code",
   "execution_count": 15,
   "id": "ceb356b1-d56a-4ae9-be48-1f6d0c9de7f8",
   "metadata": {},
   "outputs": [
    {
     "name": "stdout",
     "output_type": "stream",
     "text": [
      "[(1, 'a'), (1, 'b'), (2, 'a'), (2, 'b')]\n"
     ]
    }
   ],
   "source": [
    "pairs=[(x,y) for x in [1,2] for y in ['a','b']]          # using list comprehension with multiple loops\n",
    "print(pairs)"
   ]
  },
  {
   "cell_type": "code",
   "execution_count": null,
   "id": "fe7084e7-889b-4888-b302-d6f5aad3f2f2",
   "metadata": {},
   "outputs": [],
   "source": []
  }
 ],
 "metadata": {
  "kernelspec": {
   "display_name": "Python 3 (ipykernel)",
   "language": "python",
   "name": "python3"
  },
  "language_info": {
   "codemirror_mode": {
    "name": "ipython",
    "version": 3
   },
   "file_extension": ".py",
   "mimetype": "text/x-python",
   "name": "python",
   "nbconvert_exporter": "python",
   "pygments_lexer": "ipython3",
   "version": "3.13.3"
  }
 },
 "nbformat": 4,
 "nbformat_minor": 5
}
