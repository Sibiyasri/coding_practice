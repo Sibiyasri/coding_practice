{
 "cells": [
  {
   "cell_type": "code",
   "execution_count": 5,
   "id": "c5d2f9e6-fae1-400e-b6cc-f0ffa3bf91d4",
   "metadata": {},
   "outputs": [
    {
     "name": "stdout",
     "output_type": "stream",
     "text": [
      "llo, w\n"
     ]
    }
   ],
   "source": [
    "b=\"hello, world!\"\n",
    "print(b[2:8])"
   ]
  },
  {
   "cell_type": "code",
   "execution_count": 7,
   "id": "38bcd36a-0a27-4f43-8402-2401c05e1b8a",
   "metadata": {},
   "outputs": [
    {
     "name": "stdout",
     "output_type": "stream",
     "text": [
      "hello,\n"
     ]
    }
   ],
   "source": [
    "print(b[:6])"
   ]
  },
  {
   "cell_type": "code",
   "execution_count": 9,
   "id": "e7e52553-9c13-43e0-8b0a-46131635ba36",
   "metadata": {},
   "outputs": [
    {
     "name": "stdout",
     "output_type": "stream",
     "text": [
      " world!\n"
     ]
    }
   ],
   "source": [
    "print(b[6:])"
   ]
  },
  {
   "cell_type": "code",
   "execution_count": 12,
   "id": "a5511492-e9df-48e5-9625-058e8cd23fdb",
   "metadata": {},
   "outputs": [
    {
     "name": "stdout",
     "output_type": "stream",
     "text": [
      "HELLO WORLD\n"
     ]
    }
   ],
   "source": [
    "text1='hello world'                                           # uper case\n",
    "result=text1.upper()\n",
    "print(result)"
   ]
  },
  {
   "cell_type": "code",
   "execution_count": 14,
   "id": "d0ebc6e8-76cf-48d2-9c20-56ab638fed0e",
   "metadata": {},
   "outputs": [
    {
     "name": "stdout",
     "output_type": "stream",
     "text": [
      "HELLO WORLD\n"
     ]
    }
   ],
   "source": [
    "text2='Hello World'                                           # upper case using replace string\n",
    "result=text2.replace('world','earth').upper()\n",
    "print(result)"
   ]
  },
  {
   "cell_type": "code",
   "execution_count": 15,
   "id": "7ddb1f90-5a40-43b3-b409-d40dd113adb6",
   "metadata": {},
   "outputs": [
    {
     "name": "stdout",
     "output_type": "stream",
     "text": [
      "hello world\n"
     ]
    }
   ],
   "source": [
    "result=text2.lower()                                         # lower case\n",
    "print(result)"
   ]
  },
  {
   "cell_type": "code",
   "execution_count": 16,
   "id": "5c915c70-1bae-47e1-a4ae-c1b1474f8dbf",
   "metadata": {},
   "outputs": [
    {
     "name": "stdout",
     "output_type": "stream",
     "text": [
      "Hello World\n"
     ]
    }
   ],
   "source": [
    "result=text2.strip()                                        # strip using clear characters\n",
    "print(result)"
   ]
  },
  {
   "cell_type": "code",
   "execution_count": 17,
   "id": "ae9471be-a743-430b-9a23-7071421cb4de",
   "metadata": {},
   "outputs": [
    {
     "name": "stdout",
     "output_type": "stream",
     "text": [
      "john\n"
     ]
    }
   ],
   "source": [
    "user='john\\n'\n",
    "username=user.strip()\n",
    "print(username)"
   ]
  },
  {
   "cell_type": "code",
   "execution_count": 25,
   "id": "bfa60fbb-435c-45ad-9890-9e8804c4df91",
   "metadata": {},
   "outputs": [
    {
     "name": "stdout",
     "output_type": "stream",
     "text": [
      " laxmi\n"
     ]
    }
   ],
   "source": [
    "name='muthu laxmi'                                            # lstrip and rstrip\n",
    "fam=name.lstrip('muthu')\n",
    "print(fam)"
   ]
  },
  {
   "cell_type": "code",
   "execution_count": 32,
   "id": "49bdb664-8ee7-46fb-b4e2-591b14f5935c",
   "metadata": {},
   "outputs": [
    {
     "name": "stdout",
     "output_type": "stream",
     "text": [
      "['apple', 'orange', 'cherry']\n"
     ]
    }
   ],
   "source": [
    "data='apple, orange, cherry'                                    # split method\n",
    "fruits=data.split(\", \")\n",
    "print(fruits)"
   ]
  },
  {
   "cell_type": "code",
   "execution_count": 35,
   "id": "fd075853-4966-47ee-b2ba-76dc0c0b72c3",
   "metadata": {},
   "outputs": [
    {
     "name": "stdout",
     "output_type": "stream",
     "text": [
      "python is awesome\n"
     ]
    }
   ],
   "source": [
    "words=['python', 'is', 'awesome']                             # join method\n",
    "sentence=' '.join(words)\n",
    "print(sentence)"
   ]
  },
  {
   "cell_type": "code",
   "execution_count": 36,
   "id": "8a4eee24-55dd-4a76-a65c-b73596726390",
   "metadata": {},
   "outputs": [
    {
     "name": "stdout",
     "output_type": "stream",
     "text": [
      "7\n"
     ]
    }
   ],
   "source": [
    "text5='hello, python!'                                       # find method\n",
    "index=text5.find('python')\n",
    "print(index)"
   ]
  },
  {
   "cell_type": "code",
   "execution_count": 37,
   "id": "167076c0-be23-4da3-9d87-af38d6e7248f",
   "metadata": {},
   "outputs": [
    {
     "name": "stdout",
     "output_type": "stream",
     "text": [
      "3\n"
     ]
    }
   ],
   "source": [
    "text6='abracadabra'\n",
    "index=text6.find('a',2,6)\n",
    "print(index)"
   ]
  },
  {
   "cell_type": "code",
   "execution_count": 39,
   "id": "9dd6d628-bb66-446d-9d2a-c08638761919",
   "metadata": {},
   "outputs": [
    {
     "name": "stdout",
     "output_type": "stream",
     "text": [
      "True\n",
      "True\n"
     ]
    }
   ],
   "source": [
    "str='python is fun'                                      # starswith prefix endswith suffix\n",
    "print(str.startswith('is',7))\n",
    "print(str.endswith('fun',10,13))"
   ]
  },
  {
   "cell_type": "code",
   "execution_count": 40,
   "id": "5bf5e3d2-6a7b-47e8-b1ce-e30bfb6d52f8",
   "metadata": {},
   "outputs": [
    {
     "name": "stdout",
     "output_type": "stream",
     "text": [
      "True\n"
     ]
    }
   ],
   "source": [
    "a='python'                                                # isalpha\n",
    "print(a.isalpha())"
   ]
  },
  {
   "cell_type": "code",
   "execution_count": 41,
   "id": "3d4918f6-5a58-43e0-83c9-fc4bd008f1bd",
   "metadata": {},
   "outputs": [
    {
     "name": "stdout",
     "output_type": "stream",
     "text": [
      "False\n"
     ]
    }
   ],
   "source": [
    "b='python3'\n",
    "print(b.isalpha())"
   ]
  },
  {
   "cell_type": "code",
   "execution_count": 42,
   "id": "43ae442b-e676-4c2a-81bd-37e666debbc1",
   "metadata": {},
   "outputs": [
    {
     "name": "stdout",
     "output_type": "stream",
     "text": [
      "False\n"
     ]
    }
   ],
   "source": [
    "c='134ab'                                                  # isdigit\n",
    "print(c.isdigit())"
   ]
  },
  {
   "cell_type": "code",
   "execution_count": 44,
   "id": "707ad9b2-18fe-4819-b89f-8589be4956a3",
   "metadata": {},
   "outputs": [
    {
     "name": "stdout",
     "output_type": "stream",
     "text": [
      "False\n"
     ]
    }
   ],
   "source": [
    "d='python 3'                                         # isalnum alphabet and number if space is not allowed\n",
    "print(d.isalnum())"
   ]
  },
  {
   "cell_type": "code",
   "execution_count": 45,
   "id": "7eec191d-7b79-4cd1-a9a7-f05ff61c3df8",
   "metadata": {},
   "outputs": [
    {
     "name": "stdout",
     "output_type": "stream",
     "text": [
      "Hello World\n"
     ]
    }
   ],
   "source": [
    "alpha='python is cool'                                 # title or capitalize\n",
    "print(text.title())"
   ]
  },
  {
   "cell_type": "code",
   "execution_count": 2,
   "id": "5ad3088d-259e-4c2f-9543-bf628872967e",
   "metadata": {},
   "outputs": [
    {
     "name": "stdout",
     "output_type": "stream",
     "text": [
      "6\n"
     ]
    }
   ],
   "source": [
    "a=[1,2,3,[4,5,[6,7]]]\n",
    "idx=a[3][2][0]\n",
    "print(idx)"
   ]
  },
  {
   "cell_type": "code",
   "execution_count": null,
   "id": "fcf331e4-8489-4dc4-adb5-e20a5d058632",
   "metadata": {},
   "outputs": [],
   "source": []
  }
 ],
 "metadata": {
  "kernelspec": {
   "display_name": "Python 3 (ipykernel)",
   "language": "python",
   "name": "python3"
  },
  "language_info": {
   "codemirror_mode": {
    "name": "ipython",
    "version": 3
   },
   "file_extension": ".py",
   "mimetype": "text/x-python",
   "name": "python",
   "nbconvert_exporter": "python",
   "pygments_lexer": "ipython3",
   "version": "3.13.3"
  }
 },
 "nbformat": 4,
 "nbformat_minor": 5
}
