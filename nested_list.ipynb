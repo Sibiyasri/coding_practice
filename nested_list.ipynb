{
 "cells": [
  {
   "cell_type": "code",
   "execution_count": null,
   "id": "234c6fed-177e-47e2-947b-97290161a159",
   "metadata": {},
   "outputs": [],
   "source": [
    "user = eval(input(\"Enter the value: \"))\n",
    "\n",
    "if 6 in user[3]:  \n",
    "    print(user[3])\n",
    "elif 7 in user[3][2]:  \n",
    "    print(user[3][2])\n",
    "elif 3 == user[2]:  \n",
    "    print(user[3][2][0])\n",
    "else:\n",
    "    print(\"not found\")"
   ]
  }
 ],
 "metadata": {
  "kernelspec": {
   "display_name": "Python 3 (ipykernel)",
   "language": "python",
   "name": "python3"
  },
  "language_info": {
   "codemirror_mode": {
    "name": "ipython",
    "version": 3
   },
   "file_extension": ".py",
   "mimetype": "text/x-python",
   "name": "python",
   "nbconvert_exporter": "python",
   "pygments_lexer": "ipython3",
   "version": "3.13.3"
  }
 },
 "nbformat": 4,
 "nbformat_minor": 5
}
